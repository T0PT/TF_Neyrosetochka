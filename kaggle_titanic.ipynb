{
 "cells": [
  {
   "cell_type": "code",
   "execution_count": 8,
   "metadata": {},
   "outputs": [],
   "source": [
    "import tensorflow as tf\n",
    "import pandas as pd\n",
    "import numpy as np"
   ]
  },
  {
   "attachments": {},
   "cell_type": "markdown",
   "metadata": {},
   "source": [
    "Data importing"
   ]
  },
  {
   "cell_type": "code",
   "execution_count": 2,
   "metadata": {},
   "outputs": [],
   "source": [
    "df=pd.read_csv('train.csv')"
   ]
  },
  {
   "attachments": {},
   "cell_type": "markdown",
   "metadata": {},
   "source": [
    "Get data ready"
   ]
  },
  {
   "cell_type": "code",
   "execution_count": 59,
   "metadata": {},
   "outputs": [
    {
     "name": "stdout",
     "output_type": "stream",
     "text": [
      "PassengerId   int64\n",
      "Survived   int64\n",
      "Pclass   int64\n",
      "Name   object\n",
      "Sex   object\n",
      "Age   float64\n",
      "SibSp   int64\n",
      "Parch   int64\n",
      "Ticket   object\n",
      "Fare   float64\n",
      "Cabin   object\n",
      "Embarked   object\n",
      "dict_keys(['Pclass', 'Sex', 'Age', 'SibSp', 'Parch', 'Fare', 'Embarked'])\n"
     ]
    }
   ],
   "source": [
    "from turtle import shape\n",
    "\n",
    "\n",
    "features={}\n",
    "answrs=np.array([])\n",
    "for key in df.keys():\n",
    "    print(str(key) +'   '+str(df[key].dtype))\n",
    "    if key!= 'Survived':\n",
    "        if df[key].dtype=='int64' and key!= 'PassengerId':\n",
    "            features[key]=np.array(df[key] - df[key].min()) / (df[key].max() - df[key].min())\n",
    "        elif df[key].dtype=='object' and key in ['Sex', 'Embarked']:\n",
    "            to_add=np.array([])\n",
    "            for one in df[key]:\n",
    "                if one=='male':\n",
    "                    to_add=np.append(to_add, 1)\n",
    "                else:\n",
    "                    to_add=np.append(to_add, 0)\n",
    "            features[key]=to_add\n",
    "        elif df[key].dtype=='float64':\n",
    "            features[key]=np.array(df[key] - df[key].min()) / (df[key].max() - df[key].min())\n",
    "    else:\n",
    "        answrs=np.append(answrs, df[key])\n",
    "print(features.keys())\n",
    "to_feed=[]\n",
    "for key in features.keys():\n",
    "    to_feed.append(features[key])"
   ]
  },
  {
   "attachments": {},
   "cell_type": "markdown",
   "metadata": {},
   "source": [
    "Modelka"
   ]
  },
  {
   "cell_type": "code",
   "execution_count": 72,
   "metadata": {},
   "outputs": [
    {
     "name": "stdout",
     "output_type": "stream",
     "text": [
      "Epoch 1/10\n",
      "446/446 [==============================] - 2s 3ms/step - loss: nan - accuracy: 0.6162\n",
      "Epoch 2/10\n",
      "446/446 [==============================] - 1s 2ms/step - loss: nan - accuracy: 0.6162\n",
      "Epoch 3/10\n",
      "446/446 [==============================] - 1s 2ms/step - loss: nan - accuracy: 0.6162\n",
      "Epoch 4/10\n",
      "446/446 [==============================] - 1s 3ms/step - loss: nan - accuracy: 0.6162\n",
      "Epoch 5/10\n",
      "446/446 [==============================] - 1s 2ms/step - loss: nan - accuracy: 0.6162\n",
      "Epoch 6/10\n",
      "446/446 [==============================] - 1s 2ms/step - loss: nan - accuracy: 0.6162\n",
      "Epoch 7/10\n",
      "446/446 [==============================] - 1s 3ms/step - loss: nan - accuracy: 0.6162\n",
      "Epoch 8/10\n",
      "446/446 [==============================] - 1s 3ms/step - loss: nan - accuracy: 0.6162\n",
      "Epoch 9/10\n",
      "446/446 [==============================] - 1s 3ms/step - loss: nan - accuracy: 0.6162\n",
      "Epoch 10/10\n",
      "446/446 [==============================] - 1s 3ms/step - loss: nan - accuracy: 0.6162\n"
     ]
    },
    {
     "data": {
      "text/plain": [
       "<keras.callbacks.History at 0x25f441783a0>"
      ]
     },
     "execution_count": 72,
     "metadata": {},
     "output_type": "execute_result"
    }
   ],
   "source": [
    "model = tf.keras.Sequential([\n",
    "    tf.keras.layers.Dense(16, activation='relu', input_dim=7),\n",
    "    tf.keras.layers.Dense(1, activation='sigmoid')\n",
    "    ])\n",
    "\n",
    "model.compile(optimizer='adam', loss='binary_crossentropy', metrics=['accuracy'])\n",
    "model.fit(np.array(to_feed).T, answrs, epochs=10, batch_size=2)#, validation_data=(x_val, y_val))"
   ]
  },
  {
   "cell_type": "code",
   "execution_count": 73,
   "metadata": {},
   "outputs": [
    {
     "name": "stderr",
     "output_type": "stream",
     "text": [
      "WARNING:absl:Found untraced functions such as _update_step_xla while saving (showing 1 of 1). These functions will not be directly callable after loading.\n"
     ]
    },
    {
     "name": "stdout",
     "output_type": "stream",
     "text": [
      "INFO:tensorflow:Assets written to: Titanic\\assets\n"
     ]
    },
    {
     "name": "stderr",
     "output_type": "stream",
     "text": [
      "INFO:tensorflow:Assets written to: Titanic\\assets\n"
     ]
    }
   ],
   "source": [
    "model.save('Titanic')"
   ]
  }
 ],
 "metadata": {
  "kernelspec": {
   "display_name": "Python 3",
   "language": "python",
   "name": "python3"
  },
  "language_info": {
   "codemirror_mode": {
    "name": "ipython",
    "version": 3
   },
   "file_extension": ".py",
   "mimetype": "text/x-python",
   "name": "python",
   "nbconvert_exporter": "python",
   "pygments_lexer": "ipython3",
   "version": "3.8.10"
  },
  "orig_nbformat": 4,
  "vscode": {
   "interpreter": {
    "hash": "1fd2a919270971e76d246c0ffd5a089272b911b92146131cce460b1d8c4074d0"
   }
  }
 },
 "nbformat": 4,
 "nbformat_minor": 2
}
